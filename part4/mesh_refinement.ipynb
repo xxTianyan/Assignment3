{
 "cells": [
  {
   "cell_type": "markdown",
   "metadata": {},
   "source": [
    "## 🧪 2D Cantilever Beam Under Uniform Load — Demonstrating $h$ and Prefinement\n",
    "\n",
    "Set up a 2D cantilever beam under a **uniform downward traction** on the right edge ($x = L$). The **left edge** ($x = 0$) is clamped. For small deflections, the computed displacement can be compared to the **Euler–Bernoulli beam theory**.\n",
    "\n",
    "This example is useful for demonstrating the effect of mesh size $h$ and prefinenment techniques.\n",
    "\n",
    "---\n",
    "\n",
    "### 📐 Problem Description\n",
    "\n",
    "- **Geometry**: Rectangular cantilever beam of length $L$ and height $H$\n",
    "- **Loading**: Uniform downward traction $q$ on the right edge ($x = L$)\n",
    "- **Boundary Conditions**:\n",
    "  - Clamped on the left edge ($x = 0$): $\\, u = 0$\n",
    "  - Free on top, bottom, and right edges (except for the traction)\n",
    "\n",
    "---\n",
    "\n",
    "### 🧱 Material Properties\n",
    "\n",
    "- **Given**:\n",
    "  - Young's modulus: $E = 1000$\n",
    "  - Poisson's ratio: $\\nu = 0.3$\n",
    "\n",
    "- **Derived**:\n",
    "  - Shear modulus: $\\mu = \\dfrac{E}{2(1 + \\nu)}$\n",
    "  - Bulk modulus: $\\kappa = \\dfrac{E}{3(1 - 2\\nu)}$\n",
    "\n",
    "---\n",
    "\n",
    "### 🧮 Analytical Solution (Euler–Bernoulli Beam Theory)\n",
    "\n",
    "The **analytical tip deflection** for a cantilever beam under a **uniform load $P$** in plane strain is given by:\n",
    "\n",
    "$$\n",
    "w(L) = -\\dfrac{P x^2}{6EI} (3L - x)\n",
    "$$\n",
    "\n",
    "This is evaluated at the beam tip ($x = L$) and mid-height ($y = H/2$). The solution serves as a reference for verifying FEM results under mesh refinement or local $h$-refinement near the loaded edge.\n",
    "\n",
    "---\n",
    "\n",
    "And using this setup to experiment with mesh density $h$ and investigate how pre-refinement near the tip improves accuracy.\n",
    "\n"
   ]
  },
  {
   "cell_type": "code",
   "execution_count": 1,
   "metadata": {},
   "outputs": [],
   "source": [
    "import warnings\n",
    "warnings.simplefilter(\"always\")\n",
    "from finiteelementanalysis import pre_process as pre\n",
    "from finiteelementanalysis import pre_process_demo_helper_fcns as pre_demo\n",
    "from finiteelementanalysis.solver import hyperelastic_solver\n",
    "from finiteelementanalysis import visualize as viz\n",
    "import matplotlib.pyplot as plt\n",
    "import numpy as np\n",
    "from pathlib import Path"
   ]
  },
  {
   "cell_type": "code",
   "execution_count": 2,
   "metadata": {},
   "outputs": [],
   "source": [
    "# for saving files later\n",
    "tutorials_dir = Path.cwd()"
   ]
  },
  {
   "cell_type": "code",
   "execution_count": 3,
   "metadata": {},
   "outputs": [],
   "source": [
    "# --- Beam geometry ---\n",
    "L = 20.0   # length in x\n",
    "H = 1.0    # height in y\n",
    "nx = 80    # number of elements along length\n",
    "ny = 4     # number of elements along height\n",
    "\n",
    "# --- FEA problem info --- \n",
    "ele_type = \"D2_nn8_quad\"  # 2D, 4-node quadrilateral (linear)\n",
    "ndof = 2                  # 2 DOFs per node (x, y)\n"
   ]
  },
  {
   "cell_type": "code",
   "execution_count": 4,
   "metadata": {},
   "outputs": [],
   "source": [
    "# Generate a rectangular mesh\n",
    "coords, connect = pre.generate_rect_mesh_2d(ele_type, 0.0, 0.0, L, H, nx, ny)\n",
    "# coords: shape (n_nodes, 2)\n",
    "# connect: shape (n_nodes_per_elem, n_elems)"
   ]
  },
  {
   "cell_type": "code",
   "execution_count": 5,
   "metadata": {},
   "outputs": [],
   "source": [
    "# --- Identify boundaries ---\n",
    "boundary_nodes, boundary_edges = pre.identify_rect_boundaries(\n",
    "    coords, connect, ele_type, x_lower=0.0, x_upper=L, y_lower=0.0, y_upper=H\n",
    ")"
   ]
  },
  {
   "cell_type": "code",
   "execution_count": 6,
   "metadata": {},
   "outputs": [],
   "source": [
    "# 1) Clamp the left edge: fix x- and y-displacements = 0\n",
    "fixed_left = pre.assign_fixed_nodes_rect(boundary_nodes, \"left\", 0.0, 0.0)"
   ]
  },
  {
   "cell_type": "code",
   "execution_count": 7,
   "metadata": {},
   "outputs": [],
   "source": [
    "# 2) Uniform downward traction on the top edge (y=H)\n",
    "# Let q be negative in the y-direction\n",
    "q = -0.01  # load per unit length in y\n",
    "# For a 2D plane strain problem, this is a traction (tx, ty) = (0, q)\n",
    "dload_info = pre.assign_uniform_load_rect(boundary_edges, \"right\", 0.0, q)"
   ]
  },
  {
   "cell_type": "code",
   "execution_count": 8,
   "metadata": {},
   "outputs": [
    {
     "name": "stdout",
     "output_type": "stream",
     "text": [
      "Material properties: mu=38461.538, kappa=83333.333\n"
     ]
    }
   ],
   "source": [
    "# Combine boundary conditions\n",
    "fixed_nodes = fixed_left  # only the left edge is clamped\n",
    "\n",
    "# --- Material properties ---\n",
    "E = 100000.0\n",
    "nu = 0.3\n",
    "# mu = E / (2.0 * (1.0 + nu))\n",
    "# kappa = E / (3.0 * (1.0 - 2.0 * nu))\n",
    "mu = E / (2.0 * (1.0 + nu))\n",
    "#kappa = E / (2.0 * (1.0 - nu))\n",
    "kappa = E / (3.0 * (1.0 - 2.0 * nu))\n",
    "\n",
    "material_props = np.array([mu, kappa])\n",
    "print(f\"Material properties: mu={mu:.3f}, kappa={kappa:.3f}\")"
   ]
  },
  {
   "cell_type": "code",
   "execution_count": 9,
   "metadata": {},
   "outputs": [
    {
     "name": "stdout",
     "output_type": "stream",
     "text": [
      "Step 0, load factor = 1.000\n",
      "Iteration 1, Correction=1.000000e+00, Residual=1.629717e-06, tolerance=1.000000e-10\n",
      "Iteration 2, Correction=7.875615e-05, Residual=3.140595e-06, tolerance=1.000000e-10\n",
      "Iteration 3, Correction=1.353098e-12, Residual=7.588358e-14, tolerance=1.000000e-10\n"
     ]
    }
   ],
   "source": [
    "# Number of incremental load steps\n",
    "nr_num_steps = 1\n",
    "\n",
    "# --- Solve with your hyperelastic solver ---\n",
    "displacements_all, nr_info_all = hyperelastic_solver(\n",
    "    material_props,\n",
    "    ele_type,\n",
    "    coords.T,      # shape (2, n_nodes)\n",
    "    connect.T,     # shape (n_nodes_per_elem, n_elems)\n",
    "    fixed_nodes,\n",
    "    dload_info,\n",
    "    nr_print=True,\n",
    "    nr_num_steps=nr_num_steps,\n",
    "    nr_tol=1e-10,\n",
    "    nr_maxit=30,\n",
    ")\n",
    "\n",
    "final_disp = displacements_all[-1]  # shape: (n_nodes*ndof,)"
   ]
  },
  {
   "cell_type": "code",
   "execution_count": 10,
   "metadata": {},
   "outputs": [],
   "source": [
    "# --- Compute the tip displacement from the FEA result ---\n",
    "# We'll pick a node near x=L, y=H/2\n",
    "tip_node = None\n",
    "tol = 1e-3\n",
    "for i, (x, y) in enumerate(coords):\n",
    "    if abs(x - L) < tol and abs(y - H/2) < H/(2*ny):\n",
    "        tip_node = i\n",
    "        break\n",
    "if tip_node is None:\n",
    "    raise ValueError(\"Could not find tip node near x=L, y=H/2.\")\n",
    "\n",
    "tip_disp_y = final_disp[ndof*tip_node + 1]  # the y-component of displacement"
   ]
  },
  {
   "cell_type": "code",
   "execution_count": 11,
   "metadata": {},
   "outputs": [],
   "source": [
    "# compute the analytical solution\n",
    "E_eff = E / (1 - nu ** 2.0)\n",
    "I = (H**3) / 12.0  # moment of inertia for a rectangular beam\n",
    "w_analytical = q * L**3 / (3 * E_eff * I)  # analytical solution"
   ]
  },
  {
   "cell_type": "code",
   "execution_count": 12,
   "metadata": {},
   "outputs": [
    {
     "name": "stdout",
     "output_type": "stream",
     "text": [
      "Tip node index: 644, coordinates=[20.   0.5]\n",
      "Computed tip deflection (y): -0.002912\n",
      "Analytical Euler-Bernoulli deflection: -0.002912\n",
      "Absolute error = 1.225718e-07\n"
     ]
    }
   ],
   "source": [
    "print(f\"Tip node index: {tip_node}, coordinates={coords[tip_node]}\")\n",
    "print(f\"Computed tip deflection (y): {tip_disp_y:.6f}\")\n",
    "print(f\"Analytical Euler-Bernoulli deflection: {w_analytical:.6f}\")\n",
    "\n",
    "# --- Evaluate error ---\n",
    "error = abs(tip_disp_y - w_analytical)\n",
    "print(f\"Absolute error = {error:.6e}\")"
   ]
  },
  {
   "cell_type": "code",
   "execution_count": 13,
   "metadata": {},
   "outputs": [],
   "source": [
    "# using h-refinement to compute convergence\n",
    "error = np.array([3.697239e-04, 1.029849e-04, 2.603879e-05,5.726829e-06])\n",
    "h = np.array([0.5, 0.25, 0.125, 0.0625])\n",
    "\n",
    "# --- Plotting ---\n",
    "plt.figure()\n",
    "plt.plot(h, error, 'o-')\n",
    "plt.xscale('log')\n",
    "plt.yscale('log')\n",
    "plt.xlabel('h (element size)')\n",
    "plt.ylabel('Error')\n",
    "plt.title('Convergence of the FEA solution')\n",
    "plt.grid()\n",
    "plt.tight_layout()\n",
    "plt.savefig(tutorials_dir / 'h_convergence_plot.png')\n"
   ]
  },
  {
   "cell_type": "markdown",
   "metadata": {},
   "source": [
    "<img src=\"h_convergence_plot.png\" alt=\"Mesh plot2\" style=\"width:50%;\">"
   ]
  },
  {
   "cell_type": "code",
   "execution_count": 14,
   "metadata": {},
   "outputs": [],
   "source": [
    "# using p-refinement to compute convergence\n",
    "error = np.array([1.029849e-04, 1.225718e-07])\n",
    "p = np.array([4, 8])\n",
    "\n",
    "# --- Plotting ---\n",
    "plt.figure()\n",
    "plt.plot(p, error, 'o-')\n",
    "plt.xscale('log')\n",
    "plt.yscale('log')\n",
    "plt.xlabel('p (degree of shape function)')\n",
    "plt.ylabel('Error')\n",
    "plt.title('Convergence of the FEA solution')\n",
    "plt.grid()\n",
    "plt.tight_layout()\n",
    "plt.savefig(tutorials_dir / 'p_convergence_plot.png')\n"
   ]
  },
  {
   "cell_type": "markdown",
   "metadata": {},
   "source": [
    "<img src=\"p_convergence_plot.png\" alt=\"Mesh plot2\" style=\"width:50%;\">"
   ]
  },
  {
   "cell_type": "code",
   "execution_count": null,
   "metadata": {},
   "outputs": [],
   "source": []
  }
 ],
 "metadata": {
  "kernelspec": {
   "display_name": "fea_me700",
   "language": "python",
   "name": "python3"
  },
  "language_info": {
   "codemirror_mode": {
    "name": "ipython",
    "version": 3
   },
   "file_extension": ".py",
   "mimetype": "text/x-python",
   "name": "python",
   "nbconvert_exporter": "python",
   "pygments_lexer": "ipython3",
   "version": "3.12.9"
  }
 },
 "nbformat": 4,
 "nbformat_minor": 2
}
