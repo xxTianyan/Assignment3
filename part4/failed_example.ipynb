{
 "cells": [
  {
   "cell_type": "code",
   "execution_count": 38,
   "metadata": {},
   "outputs": [],
   "source": [
    "import warnings\n",
    "warnings.simplefilter(\"always\")\n",
    "from finiteelementanalysis import pre_process as pre\n",
    "from finiteelementanalysis import pre_process_demo_helper_fcns as pre_demo\n",
    "from finiteelementanalysis.solver import hyperelastic_solver\n",
    "from finiteelementanalysis import visualize as viz\n",
    "import matplotlib.pyplot as plt\n",
    "import numpy as np\n",
    "from pathlib import Path"
   ]
  },
  {
   "cell_type": "code",
   "execution_count": 39,
   "metadata": {},
   "outputs": [],
   "source": [
    "# for saving files later\n",
    "tutorials_dir = Path.cwd()"
   ]
  },
  {
   "cell_type": "markdown",
   "metadata": {},
   "source": [
    "Here we use a very slender strips element shape "
   ]
  },
  {
   "cell_type": "code",
   "execution_count": 40,
   "metadata": {},
   "outputs": [],
   "source": [
    "# --- Beam geometry ---\n",
    "L = 20.0   # length in x\n",
    "H = 1.0    # height in y\n",
    "nx = 1    # number of elements along length\n",
    "ny = 2000     # number of elements along height\n",
    "\n",
    "ele_type = \"D2_nn3_tri\"  # 2D, 4-node quadrilateral (linear)\n",
    "ndof = 2                  # 2 DOFs per node (x, y)"
   ]
  },
  {
   "cell_type": "code",
   "execution_count": 41,
   "metadata": {},
   "outputs": [],
   "source": [
    "# Generate a rectangular mesh\n",
    "coords, connect = pre.generate_rect_mesh_2d(ele_type, 0.0, 0.0, L, H, nx, ny)\n",
    "# coords: shape (n_nodes, 2)\n",
    "# connect: shape (n_nodes_per_elem, n_elems)\n",
    "\n",
    "# --- Identify boundaries ---\n",
    "boundary_nodes, boundary_edges = pre.identify_rect_boundaries(\n",
    "    coords, connect, ele_type, x_lower=0.0, x_upper=L, y_lower=0.0, y_upper=H\n",
    ")\n",
    "\n",
    "# 1) Clamp the left edge: fix x- and y-displacements = 0\n",
    "fixed_left = pre.assign_fixed_nodes_rect(boundary_nodes, \"left\", 0.0, 0.0)"
   ]
  },
  {
   "cell_type": "markdown",
   "metadata": {},
   "source": [
    "And we apply a huge load force but just one step."
   ]
  },
  {
   "cell_type": "code",
   "execution_count": 45,
   "metadata": {},
   "outputs": [],
   "source": [
    "# 2) Uniform downward traction on the top edge (y=H)\n",
    "# Let q be negative in the y-direction\n",
    "q = -10000  # load per unit length in x\n",
    "# For a 2D plane strain problem, this is a traction (tx, ty) = (0, q)\n",
    "dload_info = pre.assign_uniform_load_rect(boundary_edges, \"top\", 0.0, q)\n",
    "\n",
    "# Combine boundary conditions\n",
    "fixed_nodes = fixed_left  # only the left edge is clamped"
   ]
  },
  {
   "cell_type": "code",
   "execution_count": 46,
   "metadata": {},
   "outputs": [
    {
     "name": "stdout",
     "output_type": "stream",
     "text": [
      "Material properties: mu=38461.538, kappa=83333.333\n"
     ]
    }
   ],
   "source": [
    "# --- Material properties ---\n",
    "E = 100000.0\n",
    "nu = 0.3\n",
    "# mu = E / (2.0 * (1.0 + nu))\n",
    "# kappa = E / (3.0 * (1.0 - 2.0 * nu))\n",
    "mu = E / (2.0 * (1.0 + nu))\n",
    "#kappa = E / (2.0 * (1.0 - nu))\n",
    "kappa = E / (3.0 * (1.0 - 2.0 * nu))\n",
    "\n",
    "material_props = np.array([mu, kappa])\n",
    "print(f\"Material properties: mu={mu:.3f}, kappa={kappa:.3f}\")"
   ]
  },
  {
   "cell_type": "markdown",
   "metadata": {},
   "source": [
    "We can see the solver fails to converge"
   ]
  },
  {
   "cell_type": "code",
   "execution_count": 47,
   "metadata": {},
   "outputs": [
    {
     "name": "stdout",
     "output_type": "stream",
     "text": [
      "Step 0, load factor = 1.000\n",
      "Iteration 1, Correction=1.000000e+00, Residual=1.249375e+01, tolerance=1.000000e-12\n",
      "Iteration 2, Correction=4.930607e-01, Residual=2.100792e+04, tolerance=1.000000e-12\n",
      "Iteration 3, Correction=4.831504e-01, Residual=6.169882e+03, tolerance=1.000000e-12\n",
      "Iteration 4, Correction=4.868074e-01, Residual=1.794021e+03, tolerance=1.000000e-12\n",
      "Iteration 5, Correction=1.141936e+00, Residual=4.821335e+02, tolerance=1.000000e-12\n",
      "Iteration 6, Correction=9.453576e-01, Residual=1.369243e+04, tolerance=1.000000e-12\n",
      "Iteration 7, Correction=1.941406e-01, Residual=5.979526e+03, tolerance=1.000000e-12\n",
      "Iteration 8, Correction=2.712213e-01, Residual=3.605265e+04, tolerance=1.000000e-12\n",
      "Iteration 9, Correction=0.000000e+00, Residual=nan, tolerance=1.000000e-12\n"
     ]
    }
   ],
   "source": [
    "# Number of incremental load steps\n",
    "nr_num_steps = 1\n",
    "\n",
    "# --- Solve with your hyperelastic solver ---\n",
    "displacements_all, nr_info_all = hyperelastic_solver(\n",
    "    material_props,\n",
    "    ele_type,\n",
    "    coords.T,      # shape (2, n_nodes)\n",
    "    connect.T,     # shape (n_nodes_per_elem, n_elems)\n",
    "    fixed_nodes,\n",
    "    dload_info,\n",
    "    nr_print=True,\n",
    "    nr_num_steps=nr_num_steps,\n",
    "    nr_tol=1e-12,\n",
    "    nr_maxit=30,\n",
    ")"
   ]
  },
  {
   "cell_type": "code",
   "execution_count": null,
   "metadata": {},
   "outputs": [],
   "source": []
  }
 ],
 "metadata": {
  "kernelspec": {
   "display_name": "fea_me700",
   "language": "python",
   "name": "python3"
  },
  "language_info": {
   "codemirror_mode": {
    "name": "ipython",
    "version": 3
   },
   "file_extension": ".py",
   "mimetype": "text/x-python",
   "name": "python",
   "nbconvert_exporter": "python",
   "pygments_lexer": "ipython3",
   "version": "3.12.9"
  }
 },
 "nbformat": 4,
 "nbformat_minor": 2
}
