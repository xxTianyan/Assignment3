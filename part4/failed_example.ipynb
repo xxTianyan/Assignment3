{
 "cells": [
  {
   "cell_type": "code",
   "execution_count": 80,
   "metadata": {},
   "outputs": [],
   "source": [
    "import warnings\n",
    "warnings.simplefilter(\"always\")\n",
    "from finiteelementanalysis import pre_process as pre\n",
    "from finiteelementanalysis import pre_process_demo_helper_fcns as pre_demo\n",
    "from finiteelementanalysis.solver import hyperelastic_solver\n",
    "from finiteelementanalysis import visualize as viz\n",
    "import matplotlib.pyplot as plt\n",
    "import numpy as np\n",
    "from pathlib import Path"
   ]
  },
  {
   "cell_type": "code",
   "execution_count": 81,
   "metadata": {},
   "outputs": [],
   "source": [
    "# for saving files later\n",
    "tutorials_dir = Path.cwd()"
   ]
  },
  {
   "cell_type": "code",
   "execution_count": 82,
   "metadata": {},
   "outputs": [],
   "source": [
    "# --- Beam geometry ---\n",
    "L = 20.0   # length in x\n",
    "H = 1.0    # height in y\n",
    "nx = 1    # number of elements along length\n",
    "ny = 100     # number of elements along height\n",
    "\n",
    "ele_type = \"D2_nn3_tri\"  # 2D, 4-node quadrilateral (linear)\n",
    "ndof = 2                  # 2 DOFs per node (x, y)"
   ]
  },
  {
   "cell_type": "code",
   "execution_count": 83,
   "metadata": {},
   "outputs": [],
   "source": [
    "# Generate a rectangular mesh\n",
    "coords, connect = pre.generate_rect_mesh_2d(ele_type, 0.0, 0.0, L, H, nx, ny)\n",
    "# coords: shape (n_nodes, 2)\n",
    "# connect: shape (n_nodes_per_elem, n_elems)\n",
    "\n",
    "# --- Identify boundaries ---\n",
    "boundary_nodes, boundary_edges = pre.identify_rect_boundaries(\n",
    "    coords, connect, ele_type, x_lower=0.0, x_upper=L, y_lower=0.0, y_upper=H\n",
    ")\n",
    "\n",
    "# 1) Clamp the left edge: fix x- and y-displacements = 0\n",
    "fixed_left = pre.assign_fixed_nodes_rect(boundary_nodes, \"left\", 0.0, 0.0)"
   ]
  },
  {
   "cell_type": "code",
   "execution_count": 84,
   "metadata": {},
   "outputs": [],
   "source": [
    "# 2) Uniform downward traction on the top edge (y=H)\n",
    "# Let q be negative in the y-direction\n",
    "q = -0.5  # load per unit length in x\n",
    "# For a 2D plane strain problem, this is a traction (tx, ty) = (0, q)\n",
    "dload_info = pre.assign_uniform_load_rect(boundary_edges, \"top\", 0.0, q)\n",
    "\n",
    "# Combine boundary conditions\n",
    "fixed_nodes = fixed_left  # only the left edge is clamped"
   ]
  },
  {
   "cell_type": "code",
   "execution_count": 85,
   "metadata": {},
   "outputs": [
    {
     "name": "stdout",
     "output_type": "stream",
     "text": [
      "Material properties: mu=38461.538, kappa=83333.333\n"
     ]
    }
   ],
   "source": [
    "# --- Material properties ---\n",
    "E = 100000.0\n",
    "nu = 0.3\n",
    "# mu = E / (2.0 * (1.0 + nu))\n",
    "# kappa = E / (3.0 * (1.0 - 2.0 * nu))\n",
    "mu = E / (2.0 * (1.0 + nu))\n",
    "#kappa = E / (2.0 * (1.0 - nu))\n",
    "kappa = E / (3.0 * (1.0 - 2.0 * nu))\n",
    "\n",
    "material_props = np.array([mu, kappa])\n",
    "print(f\"Material properties: mu={mu:.3f}, kappa={kappa:.3f}\")"
   ]
  },
  {
   "cell_type": "code",
   "execution_count": 86,
   "metadata": {},
   "outputs": [
    {
     "name": "stdout",
     "output_type": "stream",
     "text": [
      "Step 0, load factor = 1.000\n",
      "Iteration 1, Correction=1.000000e+00, Residual=1.237624e-02, tolerance=1.000000e-10\n",
      "Iteration 2, Correction=4.541047e-05, Residual=2.269324e-04, tolerance=1.000000e-10\n",
      "Iteration 3, Correction=4.603033e-12, Residual=5.466939e-12, tolerance=1.000000e-10\n"
     ]
    }
   ],
   "source": [
    "# Number of incremental load steps\n",
    "nr_num_steps = 1\n",
    "\n",
    "# --- Solve with your hyperelastic solver ---\n",
    "displacements_all, nr_info_all = hyperelastic_solver(\n",
    "    material_props,\n",
    "    ele_type,\n",
    "    coords.T,      # shape (2, n_nodes)\n",
    "    connect.T,     # shape (n_nodes_per_elem, n_elems)\n",
    "    fixed_nodes,\n",
    "    dload_info,\n",
    "    nr_print=True,\n",
    "    nr_num_steps=nr_num_steps,\n",
    "    nr_tol=1e-10,\n",
    "    nr_maxit=30,\n",
    ")"
   ]
  },
  {
   "cell_type": "code",
   "execution_count": 87,
   "metadata": {},
   "outputs": [
    {
     "name": "stdout",
     "output_type": "stream",
     "text": [
      "Tip node index: 101, coordinates=[20.   0.5]\n",
      "Computed tip deflection (y): -0.005193\n",
      "Analytical Euler-Bernoulli deflection: -1.092000\n"
     ]
    }
   ],
   "source": [
    "final_disp = displacements_all[-1]  # shape: (n_nodes*ndof,)\n",
    "\n",
    "# --- Compute the tip displacement from the FEA result ---\n",
    "# We'll pick a node near x=L, y=H/2\n",
    "tip_node = None\n",
    "tol = 1e-3\n",
    "for i, (x, y) in enumerate(coords):\n",
    "    if abs(x - L) < tol and abs(y - H/2) < H/(2*ny):\n",
    "        tip_node = i\n",
    "        break\n",
    "if tip_node is None:\n",
    "    raise ValueError(\"Could not find tip node near x=L, y=H/2.\")\n",
    "\n",
    "tip_disp_y = final_disp[ndof*tip_node + 1]  # the y-component of displacement\n",
    "\n",
    "# --- Compare with Euler–Bernoulli formula for small deflection ---\n",
    "mu = material_props[0]\n",
    "# We'll guess E = 3 mu (plane stress, near incompressible) or 2 mu(1 + nu) for plane strain, etc.\n",
    "# --- Analytical Solution ---\n",
    "# For a cantilever beam under uniformly distributed load q:\n",
    "# Euler–Bernoulli tip deflection: w(L) = q * L^4 / (8 * E * I)\n",
    "# E_eff = E * (1 - nu) / ((1 + nu) * (1 - 2*nu))\n",
    "E_eff = E / (1 - nu ** 2.0)\n",
    "I = H ** 3 / 12.0\n",
    "w_analytical = q * L ** 4 / (8.0 * E_eff * I)\n",
    "\n",
    "print(f\"Tip node index: {tip_node}, coordinates={coords[tip_node]}\")\n",
    "print(f\"Computed tip deflection (y): {tip_disp_y:.6f}\")\n",
    "print(f\"Analytical Euler-Bernoulli deflection: {w_analytical:.6f}\")"
   ]
  },
  {
   "cell_type": "code",
   "execution_count": 88,
   "metadata": {},
   "outputs": [
    {
     "name": "stdout",
     "output_type": "stream",
     "text": [
      "Absolute error = 1.086807e+00\n",
      "Percentafe error = 99.524425%\n",
      "Faled to converge\n"
     ]
    }
   ],
   "source": [
    "# --- Evaluate error ---\n",
    "error = abs(tip_disp_y - w_analytical)\n",
    "print(f\"Absolute error = {error:.6e}\")\n",
    "print(f'Percentafe error = {100.0 * error / abs(w_analytical):.6f}%')\n",
    "print(\"Faled to converge\")"
   ]
  },
  {
   "cell_type": "code",
   "execution_count": null,
   "metadata": {},
   "outputs": [],
   "source": []
  }
 ],
 "metadata": {
  "kernelspec": {
   "display_name": "fea_me700",
   "language": "python",
   "name": "python3"
  },
  "language_info": {
   "codemirror_mode": {
    "name": "ipython",
    "version": 3
   },
   "file_extension": ".py",
   "mimetype": "text/x-python",
   "name": "python",
   "nbconvert_exporter": "python",
   "pygments_lexer": "ipython3",
   "version": "3.12.9"
  }
 },
 "nbformat": 4,
 "nbformat_minor": 2
}
