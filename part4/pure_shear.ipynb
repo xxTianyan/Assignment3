{
 "cells": [
  {
   "cell_type": "markdown",
   "metadata": {},
   "source": [
    "## 🧹 Homogeneous Pure Shear Problem (Shear Stress Loading)\n",
    "\n",
    "Solve a **homogeneous pure shear problem** by applying **shear stress (Neumann BC)** to the top boundaries of a square elastic block, fixed the bottom boundary, and compare the computed displacement field to the analytical solution:\n",
    "\n",
    "$$u_x(x, y) = \\gamma \\cdot y$$\n",
    "\n",
    "$$u_y(x, y) = 0 $$\n",
    "\n",
    "$$\\gamma = \\frac{\\tau}{G}$$\n",
    "\n",
    "\n",
    "---\n",
    "\n",
    "### 📌 Problem Description\n",
    "\n",
    "- A **square elastic body** of size $L \\times L$ is subjected to **uniform shear stress** $\\tau_0$  \n",
    "  on the **top boundary**: $y = L$.\n",
    "- The **bottom boundary** ($y = 0$) is **fixed**.\n",
    "\n",
    "---\n",
    "\n",
    "### 🧱 Boundary Conditions\n",
    "\n",
    "- **Left and right boundaries** ($x = 0, L$) :  \n",
    "  Fixed vertical displacement \n",
    "  $$u_y(x, y) = 0$$\n",
    "- **Bottom boundary** ($y = 0$):  \n",
    "  Totally fixed \n",
    "- **Top boundaries** ($y = L$):  \n",
    "  Shear Displacement: \n",
    "  $$u_x(x, y) = \\Delta$$\n",
    "\n",
    "  $$u_y(x, y) = 0$$\n",
    "\n",
    "\n"
   ]
  },
  {
   "cell_type": "code",
   "execution_count": 1,
   "metadata": {},
   "outputs": [],
   "source": [
    "import warnings\n",
    "warnings.simplefilter(\"always\")\n",
    "from finiteelementanalysis import pre_process as pre\n",
    "from finiteelementanalysis import pre_process_demo_helper_fcns as pre_demo\n",
    "from finiteelementanalysis.solver import hyperelastic_solver\n",
    "from finiteelementanalysis import visualize as viz\n",
    "import matplotlib.pyplot as plt\n",
    "import numpy as np\n",
    "from pathlib import Path"
   ]
  },
  {
   "cell_type": "code",
   "execution_count": 2,
   "metadata": {},
   "outputs": [],
   "source": [
    "# for saving files later\n",
    "tutorials_dir = Path.cwd()"
   ]
  },
  {
   "cell_type": "code",
   "execution_count": 3,
   "metadata": {},
   "outputs": [],
   "source": [
    "# FEA problem info\n",
    "ele_type = \"D2_nn6_tri\"\n",
    "ndof = 2"
   ]
  },
  {
   "cell_type": "code",
   "execution_count": 4,
   "metadata": {},
   "outputs": [],
   "source": [
    "# Define domain\n",
    "L = 10.0      # length of the square plate\n",
    "# number of elements along a direction, keep this an even number if you want the analytical solution to be able to compute midline deformation\n",
    "nx = 5\n",
    "\n",
    "# Define material properties\n",
    "material_props = np.array([134.6, 83.33])  # [mu, K]\n",
    "gamma = 0.1 # shear strain\n",
    "Delta = gamma * L\n",
    "\n",
    "# define the analytical solution\n",
    "def analytical_solution(y):\n",
    "    return gamma * y"
   ]
  },
  {
   "cell_type": "code",
   "execution_count": 5,
   "metadata": {},
   "outputs": [],
   "source": [
    "# Generate mesh\n",
    "coords, connect = pre.generate_rect_mesh_2d(ele_type, 0.0, 0.0, L, L, nx, nx)"
   ]
  },
  {
   "cell_type": "code",
   "execution_count": 6,
   "metadata": {},
   "outputs": [],
   "source": [
    "# Plot mesh\n",
    "mesh_img_fname = tutorials_dir / \"pure_shear_mesh.png\"\n",
    "pre_demo.plot_mesh_2D(str(mesh_img_fname), ele_type, coords, connect)"
   ]
  },
  {
   "cell_type": "markdown",
   "metadata": {},
   "source": [
    "<img src=\"pure_shear_mesh.png\" alt=\"Mesh plot\" style=\"width:50%;\">"
   ]
  },
  {
   "cell_type": "code",
   "execution_count": 7,
   "metadata": {},
   "outputs": [],
   "source": [
    "# Identify corner nodes\n",
    "boundary_nodes, boundary_edges = pre.identify_rect_boundaries(coords, connect, ele_type, 0, L, 0, L)"
   ]
  },
  {
   "cell_type": "code",
   "execution_count": 8,
   "metadata": {},
   "outputs": [],
   "source": [
    "# Apply boundary conditions:\n",
    "# 1. Fix bottom boundary: u_x = 0 at y = 0.\n",
    "fixed_bottom = pre.assign_fixed_nodes_rect(boundary_nodes, \"bottom\", 0.0, 0.0)\n",
    "fixed_left = pre.assign_fixed_nodes_rect(boundary_nodes, \"left\", dof_1_disp=0.0)\n",
    "fixed_right = pre.assign_fixed_nodes_rect(boundary_nodes, \"right\", dof_1_disp=0.0)\n",
    "# 2. Prescribe right boundary: u_x = 0.5 * gamma \n",
    "fixed_top = pre.assign_fixed_nodes_rect(boundary_nodes, \"top\", Delta, 0.0)\n",
    "fixed_nodes = np.hstack((fixed_bottom, fixed_top,fixed_left,fixed_right))"
   ]
  },
  {
   "cell_type": "code",
   "execution_count": 9,
   "metadata": {},
   "outputs": [],
   "source": [
    "# No distributed load is applied\n",
    "dload_info = np.empty((ndof + 2, 0))"
   ]
  },
  {
   "cell_type": "code",
   "execution_count": 10,
   "metadata": {},
   "outputs": [
    {
     "name": "stdout",
     "output_type": "stream",
     "text": [
      "Step 0, load factor = 0.200\n",
      "Iteration 1, Correction=1.000000e+00, Residual=2.741012e-03, tolerance=1.000000e-08\n",
      "Iteration 2, Correction=1.113573e-03, Residual=3.425293e-04, tolerance=1.000000e-08\n",
      "Iteration 3, Correction=4.247334e-08, Residual=1.956763e-08, tolerance=1.000000e-08\n",
      "Iteration 4, Correction=7.281953e-16, Residual=1.725262e-15, tolerance=1.000000e-08\n",
      "Step 1, load factor = 0.400\n",
      "Iteration 1, Correction=5.000003e-01, Residual=2.741012e-03, tolerance=1.000000e-08\n",
      "Iteration 2, Correction=5.566087e-04, Residual=3.427231e-04, tolerance=1.000000e-08\n",
      "Iteration 3, Correction=2.123062e-08, Residual=1.960102e-08, tolerance=1.000000e-08\n",
      "Iteration 4, Correction=3.450321e-16, Residual=2.088658e-15, tolerance=1.000000e-08\n",
      "Step 2, load factor = 0.600\n",
      "Iteration 1, Correction=3.333350e-01, Residual=2.741012e-03, tolerance=1.000000e-08\n",
      "Iteration 2, Correction=3.708829e-04, Residual=3.428340e-04, tolerance=1.000000e-08\n",
      "Iteration 3, Correction=1.414286e-08, Residual=1.962908e-08, tolerance=1.000000e-08\n",
      "Iteration 4, Correction=2.143158e-16, Residual=2.005688e-15, tolerance=1.000000e-08\n",
      "Step 3, load factor = 0.800\n",
      "Iteration 1, Correction=2.500037e-01, Residual=2.741012e-03, tolerance=1.000000e-08\n",
      "Iteration 2, Correction=2.779671e-04, Residual=3.428626e-04, tolerance=1.000000e-08\n",
      "Iteration 3, Correction=1.059385e-08, Residual=1.965164e-08, tolerance=1.000000e-08\n",
      "Iteration 4, Correction=1.599408e-16, Residual=1.930629e-15, tolerance=1.000000e-08\n",
      "Step 4, load factor = 1.000\n",
      "Iteration 1, Correction=2.000059e-01, Residual=2.741012e-03, tolerance=1.000000e-08\n",
      "Iteration 2, Correction=2.221754e-04, Residual=3.428094e-04, tolerance=1.000000e-08\n",
      "Iteration 3, Correction=8.460349e-09, Residual=1.966840e-08, tolerance=1.000000e-08\n"
     ]
    }
   ],
   "source": [
    "# Number of incremental loading steps\n",
    "nr_num_steps = 5\n",
    "\n",
    "# Run the solver\n",
    "displacements_all, nr_info_all = hyperelastic_solver(\n",
    "    material_props,\n",
    "    ele_type,\n",
    "    coords.T,      # solver expects coords as (ncoord, n_nodes)\n",
    "    connect.T,     # and connectivity as (n_nodes_per_elem, n_elems)\n",
    "    fixed_nodes,\n",
    "    dload_info,\n",
    "    nr_print=True,\n",
    "    nr_num_steps=nr_num_steps,\n",
    "    nr_tol=1e-8,\n",
    "    nr_maxit=30,\n",
    ")"
   ]
  },
  {
   "cell_type": "code",
   "execution_count": 11,
   "metadata": {},
   "outputs": [],
   "source": [
    "final_disp = displacements_all[-1]  # final global displacement vector (length = n_nodes * ndof)"
   ]
  },
  {
   "cell_type": "code",
   "execution_count": 12,
   "metadata": {},
   "outputs": [],
   "source": [
    "# Extract nodes near center to get a 1D vertical slice.\n",
    "tol_y = L / 20.0  # tolerance for y coordinate\n",
    "mid_nodes = [i for i in range(coords.shape[0]) if abs(coords[i, 0] - L/2) < tol_y]\n",
    "mid_nodes = sorted(mid_nodes, key=lambda i: coords[i, 1])  # sort by y-coordinate"
   ]
  },
  {
   "cell_type": "code",
   "execution_count": 13,
   "metadata": {},
   "outputs": [],
   "source": [
    "# Extract y-coordinates and computed u_x from the final displacement.\n",
    "y_vals = np.array([coords[i, 1] for i in mid_nodes])\n",
    "computed_u_x = np.array([final_disp[ndof * i] for i in mid_nodes])\n",
    "computed_u_y = np.array([final_disp[ndof * i+1] for i in mid_nodes])\n",
    "analytical_u_x = analytical_solution(y_vals)"
   ]
  },
  {
   "cell_type": "code",
   "execution_count": 14,
   "metadata": {},
   "outputs": [],
   "source": [
    "# Plot the computed and analytical u_x vs. x.\n",
    "plt.figure(figsize=(8, 6))\n",
    "plt.plot(y_vals, computed_u_x, 'ro-', label=\"Computed u_x\")\n",
    "plt.plot(y_vals, analytical_u_x, 'b--', label=\"Analytical u_x\")\n",
    "plt.xlabel(\"x (m)\")\n",
    "plt.ylabel(\"u_x (m)\")\n",
    "plt.title(\"Comparison of u_x(x): Computed vs. Analytical\")\n",
    "plt.legend()\n",
    "plt.grid(True)\n",
    "plt.tight_layout()\n",
    "\n",
    "plt.savefig('result_error.png', dpi=300, bbox_inches='tight')"
   ]
  },
  {
   "cell_type": "markdown",
   "metadata": {},
   "source": [
    "<img src=\"result_error.png\" alt=\"Mesh plot2\" style=\"width:50%;\">"
   ]
  },
  {
   "cell_type": "code",
   "execution_count": null,
   "metadata": {},
   "outputs": [],
   "source": []
  }
 ],
 "metadata": {
  "kernelspec": {
   "display_name": "fea_me700",
   "language": "python",
   "name": "python3"
  },
  "language_info": {
   "codemirror_mode": {
    "name": "ipython",
    "version": 3
   },
   "file_extension": ".py",
   "mimetype": "text/x-python",
   "name": "python",
   "nbconvert_exporter": "python",
   "pygments_lexer": "ipython3",
   "version": "3.12.9"
  }
 },
 "nbformat": 4,
 "nbformat_minor": 2
}
