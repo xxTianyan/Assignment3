{
 "cells": [
  {
   "cell_type": "code",
   "execution_count": 1,
   "metadata": {},
   "outputs": [],
   "source": [
    "from finiteelementanalysis import pre_process as pre\n",
    "from finiteelementanalysis import pre_process_demo_helper_fcns as pre_demo\n",
    "from finiteelementanalysis import solver_demo_helper_functions as solver_demo\n",
    "from finiteelementanalysis.solver import hyperelastic_solver\n",
    "from finiteelementanalysis import visualize as viz\n",
    "import numpy as np\n",
    "\n",
    "def define_sample_problem_geom(ele_type, nx, ny, L, H):\n",
    "    coords, connect = pre.generate_rect_mesh_2d(ele_type, 0.0, 0.0, L, H, nx, ny)\n",
    "    return coords, connect\n",
    "\n",
    "def define_sample_problem_info(ele_type, coords, connect, L, H):\n",
    "    # Identify boundaries\n",
    "    boundary_nodes, boundary_edges = pre.identify_rect_boundaries(coords, connect, ele_type, 0.0, L, 0.0, H)\n",
    "    # 1. Fix left boundary: both u_x and u_y = 0.\n",
    "    fixed_nodes = pre.assign_fixed_nodes_rect(boundary_nodes, \"left\", 0.0, 0.0)\n",
    "    # Assign distributed load on the right boundary\n",
    "    q = 10.0\n",
    "    dload_info = pre.assign_uniform_load_rect(boundary_edges, \"right\", q, 0.0)\n",
    "    # Assign material properties\n",
    "    mu = 10\n",
    "    kappa = 100\n",
    "    material_props = np.array([mu, kappa])\n",
    "    # Assign artificial displacement field\n",
    "    displacement = np.zeros((coords.shape))\n",
    "    for kk in range(0, coords.shape[0]):\n",
    "        displacement[kk, 0] = coords[kk, 0] * 0.01\n",
    "    return displacement, material_props, fixed_nodes, dload_info\n"
   ]
  },
  {
   "cell_type": "code",
   "execution_count": 2,
   "metadata": {},
   "outputs": [],
   "source": [
    "ele_type = \"D2_nn8_quad\" # change this!\n",
    "nx = 50 # change this to refine the mesh\n",
    "ny = 50 # change this to refine the mesh\n",
    "L = 10\n",
    "H = 10\n",
    "coords, connect = define_sample_problem_geom(ele_type, nx, ny, L, H)\n",
    "displacement, material_props, fixed_nodes, dload_info = define_sample_problem_info(ele_type, coords, connect, L, H)\n",
    "\n",
    "fname = \"solver_mesh_1.png\"\n",
    "pre_demo.plot_mesh_2D(fname, ele_type, coords, connect)\n"
   ]
  },
  {
   "cell_type": "code",
   "execution_count": 3,
   "metadata": {},
   "outputs": [
    {
     "name": "stdout",
     "output_type": "stream",
     "text": [
      "avg time global stiffness: 1.113007933201152 seconds\n",
      "avg time global traction: 0.0024896415998227894 seconds\n",
      "avg time global residual: 0.9438154500006931 seconds\n"
     ]
    }
   ],
   "source": [
    "# test how long assembley takes\n",
    "\n",
    "num_runs = 5\n",
    "\n",
    "avg_time_global_stiffness = solver_demo.time_assemble_global_stiffness(\n",
    "        num_runs=num_runs,\n",
    "        ele_type=ele_type,\n",
    "        coords=coords.T,\n",
    "        connect=connect.T,\n",
    "        material_props=material_props,\n",
    "        displacement=displacement.T\n",
    "    )\n",
    "\n",
    "avg_time_global_traction = solver_demo.time_assemble_global_traction(\n",
    "        num_runs=num_runs,\n",
    "        ele_type=ele_type,\n",
    "        coords=coords.T,\n",
    "        connect=connect.T,\n",
    "        dload_info=dload_info\n",
    "    )\n",
    "\n",
    "avg_time_global_residual = solver_demo.time_assemble_global_residual(\n",
    "        num_runs=num_runs,\n",
    "        ele_type=ele_type,\n",
    "        coords=coords.T,\n",
    "        connect=connect.T,\n",
    "        material_props=material_props,\n",
    "        displacement=displacement.T\n",
    "    )\n",
    "\n",
    "print(\"avg time global stiffness:\", avg_time_global_stiffness, \"seconds\")\n",
    "print(\"avg time global traction:\", avg_time_global_traction, \"seconds\")\n",
    "print(\"avg time global residual:\", avg_time_global_residual, \"seconds\")"
   ]
  },
  {
   "cell_type": "code",
   "execution_count": 4,
   "metadata": {},
   "outputs": [
    {
     "name": "stdout",
     "output_type": "stream",
     "text": [
      "15402\n",
      "average time dense matrix solve: 30.236315433400158 seconds\n"
     ]
    }
   ],
   "source": [
    "# test how long the matrix solve takes\n",
    "\n",
    "K, R = solver_demo.prep_for_matrix_solve(ele_type, coords.T, connect.T, material_props, displacement.T, fixed_nodes, dload_info)\n",
    "print(K.shape[0])\n",
    "method = \"dense\"\n",
    "num_runs = 5\n",
    "avg_time_dense_solve = solver_demo.time_one_matrix_solve(K, R, method, num_runs)\n",
    "\n",
    "print(\"average time dense matrix solve:\", avg_time_dense_solve, \"seconds\")\n"
   ]
  },
  {
   "cell_type": "code",
   "execution_count": 5,
   "metadata": {},
   "outputs": [],
   "source": [
    "# look at the stiffness matrix to see sparse-ness\n",
    "\n",
    "fname = \"solver_global_stiffness_1.png\"\n",
    "solver_demo.analyze_and_visualize_matrix(K, fname)"
   ]
  },
  {
   "cell_type": "code",
   "execution_count": 6,
   "metadata": {},
   "outputs": [
    {
     "name": "stdout",
     "output_type": "stream",
     "text": [
      "avg time global stiffness assembly sparse: 1.0074643665997427 seconds\n"
     ]
    }
   ],
   "source": [
    "# try a sparse matrix assembly option\n",
    "\n",
    "num_runs = 5\n",
    "\n",
    "avg_time_global_stiffness_sparse = solver_demo.time_assemble_global_stiffness_sparse(\n",
    "        num_runs=num_runs,\n",
    "        ele_type=ele_type,\n",
    "        coords=coords.T,\n",
    "        connect=connect.T,\n",
    "        material_props=material_props,\n",
    "        displacement=displacement.T\n",
    "    )\n",
    "\n",
    "print(\"avg time global stiffness assembly sparse:\", avg_time_global_stiffness_sparse, \"seconds\")"
   ]
  },
  {
   "cell_type": "code",
   "execution_count": 7,
   "metadata": {},
   "outputs": [
    {
     "name": "stdout",
     "output_type": "stream",
     "text": [
      "average time sparse matrix solve: 0.13919787499980885\n"
     ]
    }
   ],
   "source": [
    "# try a sparse solver\n",
    "\n",
    "method = \"sparse\"\n",
    "num_runs = 10\n",
    "avg_time_sparse_solve = solver_demo.time_one_matrix_solve(K, R, method, num_runs)\n",
    "\n",
    "print(\"average time sparse matrix solve:\", avg_time_sparse_solve)\n"
   ]
  },
  {
   "cell_type": "code",
   "execution_count": null,
   "metadata": {},
   "outputs": [],
   "source": [
    "# try another sparse solver\n",
    "\n",
    "method = \"sparse_iterative\"\n",
    "num_runs = 10\n",
    "avg_time_sparse_iterative_solve = solver_demo.time_one_matrix_solve(K, R, method, num_runs)\n",
    "\n",
    "print(\"average time sparse iterative matrix solve:\", avg_time_sparse_iterative_solve)\n"
   ]
  },
  {
   "cell_type": "code",
   "execution_count": null,
   "metadata": {},
   "outputs": [],
   "source": [
    "# run the example to look at the results\n",
    "\n",
    "nr_num_steps = 5\n",
    "nr_print = True\n",
    "\n",
    "displacements_all, nr_info_all = hyperelastic_solver(material_props, ele_type, coords.T, connect.T, fixed_nodes, dload_info, nr_print, nr_num_steps, nr_tol=1e-9, nr_maxit=30)\n",
    "\n",
    "fname = \"disp.gif\"\n",
    "viz.make_deformation_gif(displacements_all, coords, connect, ele_type, fname)\n"
   ]
  },
  {
   "cell_type": "markdown",
   "metadata": {},
   "source": []
  }
 ],
 "metadata": {
  "kernelspec": {
   "display_name": "fea_me700",
   "language": "python",
   "name": "python3"
  },
  "language_info": {
   "codemirror_mode": {
    "name": "ipython",
    "version": 3
   },
   "file_extension": ".py",
   "mimetype": "text/x-python",
   "name": "python",
   "nbconvert_exporter": "python",
   "pygments_lexer": "ipython3",
   "version": "3.12.9"
  },
  "orig_nbformat": 4
 },
 "nbformat": 4,
 "nbformat_minor": 2
}
